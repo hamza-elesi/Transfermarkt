{
 "cells": [
  {
   "cell_type": "markdown",
   "id": "9ef6b80a",
   "metadata": {},
   "source": [
    "# Nettoyage des Données de Transfert de Joueurs\n",
    "\n",
    "Ce notebook détaille le processus de nettoyage d'un ensemble de données de transfert de joueurs en utilisant Python et Pandas dans un environnement Jupyter Notebook."
   ]
  },
  {
   "cell_type": "markdown",
   "id": "6e154798",
   "metadata": {},
   "source": [
    "## Importation des bibliothèques\n",
    "\n",
    "Commencez par importer les bibliothèques nécessaires pour le nettoyage des données"
   ]
  },
  {
   "cell_type": "code",
   "execution_count": 136,
   "id": "e0e65d75",
   "metadata": {},
   "outputs": [],
   "source": [
    "import pandas as pd\n",
    "import numpy as np\n",
    "import pymongo\n",
    "import re\n",
    "from pymongo import MongoClient\n"
   ]
  },
  {
   "cell_type": "markdown",
   "id": "e2895ea1",
   "metadata": {},
   "source": [
    "## Chargement des Données\n",
    "Chargez les données à partir d'un fichier CSV dans un DataFrame Pandas."
   ]
  },
  {
   "cell_type": "code",
   "execution_count": 119,
   "id": "0d502f05",
   "metadata": {},
   "outputs": [],
   "source": [
    "data = pd.read_csv('exemple.csv')\n"
   ]
  },
  {
   "cell_type": "markdown",
   "id": "c144b929",
   "metadata": {},
   "source": [
    "## Exploration Initiale\n",
    "Effectuons une exploration initiale pour mieux comprendre les données."
   ]
  },
  {
   "cell_type": "code",
   "execution_count": 120,
   "id": "3ee7ec2f",
   "metadata": {},
   "outputs": [],
   "source": [
    "pd.set_option('display.max_rows', 176)  # Affiche toutes les lignes\n"
   ]
  },
  {
   "cell_type": "code",
   "execution_count": 121,
   "id": "91b4da07",
   "metadata": {},
   "outputs": [
    {
     "data": {
      "text/html": [
       "<div>\n",
       "<style scoped>\n",
       "    .dataframe tbody tr th:only-of-type {\n",
       "        vertical-align: middle;\n",
       "    }\n",
       "\n",
       "    .dataframe tbody tr th {\n",
       "        vertical-align: top;\n",
       "    }\n",
       "\n",
       "    .dataframe thead th {\n",
       "        text-align: right;\n",
       "    }\n",
       "</style>\n",
       "<table border=\"1\" class=\"dataframe\">\n",
       "  <thead>\n",
       "    <tr style=\"text-align: right;\">\n",
       "      <th></th>\n",
       "      <th>Player</th>\n",
       "      <th>Age</th>\n",
       "      <th>Nationality</th>\n",
       "      <th>Left Team</th>\n",
       "      <th>Joined Team</th>\n",
       "      <th>Transfer Date</th>\n",
       "      <th>Market Value</th>\n",
       "      <th>Fee</th>\n",
       "    </tr>\n",
       "  </thead>\n",
       "  <tbody>\n",
       "    <tr>\n",
       "      <th>0</th>\n",
       "      <td>Ross Barkley</td>\n",
       "      <td>29</td>\n",
       "      <td>England</td>\n",
       "      <td>OGC Nice</td>\n",
       "      <td>Luton Town</td>\n",
       "      <td>Aug 9, 2023</td>\n",
       "      <td>6.00m</td>\n",
       "      <td>free transfer</td>\n",
       "    </tr>\n",
       "    <tr>\n",
       "      <th>1</th>\n",
       "      <td>Sander Berge</td>\n",
       "      <td>25</td>\n",
       "      <td>Norway</td>\n",
       "      <td>Sheffield United</td>\n",
       "      <td>Burnley FC</td>\n",
       "      <td>Aug 9, 2023</td>\n",
       "      <td>20.00m</td>\n",
       "      <td>13.95m</td>\n",
       "    </tr>\n",
       "    <tr>\n",
       "      <th>2</th>\n",
       "      <td>Álex Gallar</td>\n",
       "      <td>31</td>\n",
       "      <td>Spain</td>\n",
       "      <td>Málaga CF</td>\n",
       "      <td>UD Ibiza</td>\n",
       "      <td>Aug 9, 2023</td>\n",
       "      <td>700k</td>\n",
       "      <td>free transfer</td>\n",
       "    </tr>\n",
       "    <tr>\n",
       "      <th>3</th>\n",
       "      <td>Aimen Mahious</td>\n",
       "      <td>25</td>\n",
       "      <td>Algeria</td>\n",
       "      <td>USM Alger</td>\n",
       "      <td>Yverdon Sport FC</td>\n",
       "      <td>Aug 9, 2023</td>\n",
       "      <td>750k</td>\n",
       "      <td>free transfer</td>\n",
       "    </tr>\n",
       "    <tr>\n",
       "      <th>4</th>\n",
       "      <td>Sergio Arribas</td>\n",
       "      <td>21</td>\n",
       "      <td>Spain</td>\n",
       "      <td>Real Madrid Castilla</td>\n",
       "      <td>UD Almería</td>\n",
       "      <td>Aug 9, 2023</td>\n",
       "      <td>5.00m</td>\n",
       "      <td>6.00m</td>\n",
       "    </tr>\n",
       "  </tbody>\n",
       "</table>\n",
       "</div>"
      ],
      "text/plain": [
       "           Player  Age Nationality             Left Team       Joined Team  \\\n",
       "0    Ross Barkley   29     England              OGC Nice        Luton Town   \n",
       "1    Sander Berge   25      Norway      Sheffield United        Burnley FC   \n",
       "2     Álex Gallar   31       Spain             Málaga CF          UD Ibiza   \n",
       "3   Aimen Mahious   25     Algeria             USM Alger  Yverdon Sport FC   \n",
       "4  Sergio Arribas   21       Spain  Real Madrid Castilla        UD Almería   \n",
       "\n",
       "  Transfer Date Market Value            Fee  \n",
       "0   Aug 9, 2023        6.00m  free transfer  \n",
       "1   Aug 9, 2023       20.00m         13.95m  \n",
       "2   Aug 9, 2023         700k  free transfer  \n",
       "3   Aug 9, 2023         750k  free transfer  \n",
       "4   Aug 9, 2023        5.00m          6.00m  "
      ]
     },
     "execution_count": 121,
     "metadata": {},
     "output_type": "execute_result"
    }
   ],
   "source": [
    "# Afficher les premières lignes du DataFrame\n",
    "data.head()\n"
   ]
  },
  {
   "cell_type": "code",
   "execution_count": 122,
   "id": "ddac6f9f",
   "metadata": {},
   "outputs": [
    {
     "name": "stdout",
     "output_type": "stream",
     "text": [
      "<class 'pandas.core.frame.DataFrame'>\n",
      "RangeIndex: 176 entries, 0 to 175\n",
      "Data columns (total 8 columns):\n",
      " #   Column         Non-Null Count  Dtype \n",
      "---  ------         --------------  ----- \n",
      " 0   Player         176 non-null    object\n",
      " 1   Age            176 non-null    int64 \n",
      " 2   Nationality    176 non-null    object\n",
      " 3   Left Team      176 non-null    object\n",
      " 4   Joined Team    176 non-null    object\n",
      " 5   Transfer Date  176 non-null    object\n",
      " 6   Market Value   176 non-null    object\n",
      " 7   Fee            176 non-null    object\n",
      "dtypes: int64(1), object(7)\n",
      "memory usage: 11.1+ KB\n"
     ]
    }
   ],
   "source": [
    "# Afficher des informations sur les types de données et les valeurs manquantes\n",
    "data.info()"
   ]
  },
  {
   "cell_type": "code",
   "execution_count": 123,
   "id": "340d8809",
   "metadata": {},
   "outputs": [
    {
     "name": "stdout",
     "output_type": "stream",
     "text": [
      "Player           0\n",
      "Age              0\n",
      "Nationality      0\n",
      "Left Team        0\n",
      "Joined Team      0\n",
      "Transfer Date    0\n",
      "Market Value     0\n",
      "Fee              0\n",
      "dtype: int64\n"
     ]
    }
   ],
   "source": [
    "# Vérification des valeurs manquantes\n",
    "print(data.isnull().sum())"
   ]
  },
  {
   "cell_type": "code",
   "execution_count": null,
   "id": "85c0efb0",
   "metadata": {},
   "outputs": [],
   "source": []
  },
  {
   "cell_type": "code",
   "execution_count": 124,
   "id": "e6dad2be",
   "metadata": {},
   "outputs": [],
   "source": [
    "# Remplacer les valeurs \"Free Transfer\" par 0 dans la colonne 'Fee'\n",
    "data['Fee'] = data['Fee'].replace('free transfer', 0)\n",
    "data['Fee'] = data['Fee'].replace('loan transfer', 0)\n",
    "\n",
    "\n",
    "# Supprimer les lettres 'M' et 'K', puis convertir en valeurs numériques\n",
    "data['Fee'] = data['Fee'].str.replace('m', '')\n",
    "data['Fee'] = data['Fee'].str.replace('k', '')\n",
    "\n"
   ]
  },
  {
   "cell_type": "code",
   "execution_count": 125,
   "id": "0579a9ee",
   "metadata": {},
   "outputs": [
    {
     "data": {
      "text/html": [
       "<div>\n",
       "<style scoped>\n",
       "    .dataframe tbody tr th:only-of-type {\n",
       "        vertical-align: middle;\n",
       "    }\n",
       "\n",
       "    .dataframe tbody tr th {\n",
       "        vertical-align: top;\n",
       "    }\n",
       "\n",
       "    .dataframe thead th {\n",
       "        text-align: right;\n",
       "    }\n",
       "</style>\n",
       "<table border=\"1\" class=\"dataframe\">\n",
       "  <thead>\n",
       "    <tr style=\"text-align: right;\">\n",
       "      <th></th>\n",
       "      <th>Player</th>\n",
       "      <th>Age</th>\n",
       "      <th>Nationality</th>\n",
       "      <th>Left Team</th>\n",
       "      <th>Joined Team</th>\n",
       "      <th>Transfer Date</th>\n",
       "      <th>Market Value</th>\n",
       "      <th>Fee</th>\n",
       "    </tr>\n",
       "  </thead>\n",
       "  <tbody>\n",
       "    <tr>\n",
       "      <th>0</th>\n",
       "      <td>Ross Barkley</td>\n",
       "      <td>29</td>\n",
       "      <td>England</td>\n",
       "      <td>OGC Nice</td>\n",
       "      <td>Luton Town</td>\n",
       "      <td>Aug 9, 2023</td>\n",
       "      <td>6.00m</td>\n",
       "      <td>NaN</td>\n",
       "    </tr>\n",
       "    <tr>\n",
       "      <th>1</th>\n",
       "      <td>Sander Berge</td>\n",
       "      <td>25</td>\n",
       "      <td>Norway</td>\n",
       "      <td>Sheffield United</td>\n",
       "      <td>Burnley FC</td>\n",
       "      <td>Aug 9, 2023</td>\n",
       "      <td>20.00m</td>\n",
       "      <td>13.95</td>\n",
       "    </tr>\n",
       "    <tr>\n",
       "      <th>2</th>\n",
       "      <td>Álex Gallar</td>\n",
       "      <td>31</td>\n",
       "      <td>Spain</td>\n",
       "      <td>Málaga CF</td>\n",
       "      <td>UD Ibiza</td>\n",
       "      <td>Aug 9, 2023</td>\n",
       "      <td>700k</td>\n",
       "      <td>NaN</td>\n",
       "    </tr>\n",
       "    <tr>\n",
       "      <th>3</th>\n",
       "      <td>Aimen Mahious</td>\n",
       "      <td>25</td>\n",
       "      <td>Algeria</td>\n",
       "      <td>USM Alger</td>\n",
       "      <td>Yverdon Sport FC</td>\n",
       "      <td>Aug 9, 2023</td>\n",
       "      <td>750k</td>\n",
       "      <td>NaN</td>\n",
       "    </tr>\n",
       "    <tr>\n",
       "      <th>4</th>\n",
       "      <td>Sergio Arribas</td>\n",
       "      <td>21</td>\n",
       "      <td>Spain</td>\n",
       "      <td>Real Madrid Castilla</td>\n",
       "      <td>UD Almería</td>\n",
       "      <td>Aug 9, 2023</td>\n",
       "      <td>5.00m</td>\n",
       "      <td>6.00</td>\n",
       "    </tr>\n",
       "  </tbody>\n",
       "</table>\n",
       "</div>"
      ],
      "text/plain": [
       "           Player  Age Nationality             Left Team       Joined Team  \\\n",
       "0    Ross Barkley   29     England              OGC Nice        Luton Town   \n",
       "1    Sander Berge   25      Norway      Sheffield United        Burnley FC   \n",
       "2     Álex Gallar   31       Spain             Málaga CF          UD Ibiza   \n",
       "3   Aimen Mahious   25     Algeria             USM Alger  Yverdon Sport FC   \n",
       "4  Sergio Arribas   21       Spain  Real Madrid Castilla        UD Almería   \n",
       "\n",
       "  Transfer Date Market Value    Fee  \n",
       "0   Aug 9, 2023        6.00m    NaN  \n",
       "1   Aug 9, 2023       20.00m  13.95  \n",
       "2   Aug 9, 2023         700k    NaN  \n",
       "3   Aug 9, 2023         750k    NaN  \n",
       "4   Aug 9, 2023        5.00m   6.00  "
      ]
     },
     "execution_count": 125,
     "metadata": {},
     "output_type": "execute_result"
    }
   ],
   "source": [
    "data.head()\n"
   ]
  },
  {
   "cell_type": "code",
   "execution_count": 126,
   "id": "98e45765",
   "metadata": {},
   "outputs": [],
   "source": [
    "data = data.fillna(0)\n"
   ]
  },
  {
   "cell_type": "code",
   "execution_count": 127,
   "id": "c11b332b",
   "metadata": {},
   "outputs": [
    {
     "data": {
      "text/html": [
       "<div>\n",
       "<style scoped>\n",
       "    .dataframe tbody tr th:only-of-type {\n",
       "        vertical-align: middle;\n",
       "    }\n",
       "\n",
       "    .dataframe tbody tr th {\n",
       "        vertical-align: top;\n",
       "    }\n",
       "\n",
       "    .dataframe thead th {\n",
       "        text-align: right;\n",
       "    }\n",
       "</style>\n",
       "<table border=\"1\" class=\"dataframe\">\n",
       "  <thead>\n",
       "    <tr style=\"text-align: right;\">\n",
       "      <th></th>\n",
       "      <th>Player</th>\n",
       "      <th>Age</th>\n",
       "      <th>Nationality</th>\n",
       "      <th>Left Team</th>\n",
       "      <th>Joined Team</th>\n",
       "      <th>Transfer Date</th>\n",
       "      <th>Market Value</th>\n",
       "      <th>Fee</th>\n",
       "    </tr>\n",
       "  </thead>\n",
       "  <tbody>\n",
       "    <tr>\n",
       "      <th>0</th>\n",
       "      <td>Ross Barkley</td>\n",
       "      <td>29</td>\n",
       "      <td>England</td>\n",
       "      <td>OGC Nice</td>\n",
       "      <td>Luton Town</td>\n",
       "      <td>Aug 9, 2023</td>\n",
       "      <td>6.00m</td>\n",
       "      <td>0</td>\n",
       "    </tr>\n",
       "    <tr>\n",
       "      <th>1</th>\n",
       "      <td>Sander Berge</td>\n",
       "      <td>25</td>\n",
       "      <td>Norway</td>\n",
       "      <td>Sheffield United</td>\n",
       "      <td>Burnley FC</td>\n",
       "      <td>Aug 9, 2023</td>\n",
       "      <td>20.00m</td>\n",
       "      <td>13.95</td>\n",
       "    </tr>\n",
       "    <tr>\n",
       "      <th>2</th>\n",
       "      <td>Álex Gallar</td>\n",
       "      <td>31</td>\n",
       "      <td>Spain</td>\n",
       "      <td>Málaga CF</td>\n",
       "      <td>UD Ibiza</td>\n",
       "      <td>Aug 9, 2023</td>\n",
       "      <td>700k</td>\n",
       "      <td>0</td>\n",
       "    </tr>\n",
       "    <tr>\n",
       "      <th>3</th>\n",
       "      <td>Aimen Mahious</td>\n",
       "      <td>25</td>\n",
       "      <td>Algeria</td>\n",
       "      <td>USM Alger</td>\n",
       "      <td>Yverdon Sport FC</td>\n",
       "      <td>Aug 9, 2023</td>\n",
       "      <td>750k</td>\n",
       "      <td>0</td>\n",
       "    </tr>\n",
       "    <tr>\n",
       "      <th>4</th>\n",
       "      <td>Sergio Arribas</td>\n",
       "      <td>21</td>\n",
       "      <td>Spain</td>\n",
       "      <td>Real Madrid Castilla</td>\n",
       "      <td>UD Almería</td>\n",
       "      <td>Aug 9, 2023</td>\n",
       "      <td>5.00m</td>\n",
       "      <td>6.00</td>\n",
       "    </tr>\n",
       "  </tbody>\n",
       "</table>\n",
       "</div>"
      ],
      "text/plain": [
       "           Player  Age Nationality             Left Team       Joined Team  \\\n",
       "0    Ross Barkley   29     England              OGC Nice        Luton Town   \n",
       "1    Sander Berge   25      Norway      Sheffield United        Burnley FC   \n",
       "2     Álex Gallar   31       Spain             Málaga CF          UD Ibiza   \n",
       "3   Aimen Mahious   25     Algeria             USM Alger  Yverdon Sport FC   \n",
       "4  Sergio Arribas   21       Spain  Real Madrid Castilla        UD Almería   \n",
       "\n",
       "  Transfer Date Market Value    Fee  \n",
       "0   Aug 9, 2023        6.00m      0  \n",
       "1   Aug 9, 2023       20.00m  13.95  \n",
       "2   Aug 9, 2023         700k      0  \n",
       "3   Aug 9, 2023         750k      0  \n",
       "4   Aug 9, 2023        5.00m   6.00  "
      ]
     },
     "execution_count": 127,
     "metadata": {},
     "output_type": "execute_result"
    }
   ],
   "source": [
    "data.head()\n"
   ]
  },
  {
   "cell_type": "code",
   "execution_count": 128,
   "id": "b3c75b02",
   "metadata": {},
   "outputs": [],
   "source": [
    "data = data[(data['Fee'] != '?') & (data['Fee'] != '-')]\n",
    "\n",
    "# Réindexer le DataFrame après la suppression des lignes\n",
    "data = data.reset_index(drop=True)"
   ]
  },
  {
   "cell_type": "code",
   "execution_count": 130,
   "id": "0e9385c1",
   "metadata": {},
   "outputs": [],
   "source": [
    "data['Fee'] = data['Fee'].astype(float)\n",
    "def divide_fee(value):\n",
    "    if value > 100:\n",
    "        return value / 1000\n",
    "    else:\n",
    "        return value\n",
    "\n",
    "# Appliquer la fonction à la colonne 'Fee'\n",
    "data['Fee'] = data['Fee'].apply(divide_fee)\n",
    "\n"
   ]
  },
  {
   "cell_type": "code",
   "execution_count": 132,
   "id": "70ca776b",
   "metadata": {},
   "outputs": [],
   "source": [
    "data = data.drop(columns=['Market Value'])"
   ]
  },
  {
   "cell_type": "code",
   "execution_count": 134,
   "id": "7e062453",
   "metadata": {},
   "outputs": [
    {
     "data": {
      "text/html": [
       "<div>\n",
       "<style scoped>\n",
       "    .dataframe tbody tr th:only-of-type {\n",
       "        vertical-align: middle;\n",
       "    }\n",
       "\n",
       "    .dataframe tbody tr th {\n",
       "        vertical-align: top;\n",
       "    }\n",
       "\n",
       "    .dataframe thead th {\n",
       "        text-align: right;\n",
       "    }\n",
       "</style>\n",
       "<table border=\"1\" class=\"dataframe\">\n",
       "  <thead>\n",
       "    <tr style=\"text-align: right;\">\n",
       "      <th></th>\n",
       "      <th>Player</th>\n",
       "      <th>Age</th>\n",
       "      <th>Nationality</th>\n",
       "      <th>Left Team</th>\n",
       "      <th>Joined Team</th>\n",
       "      <th>Transfer Date</th>\n",
       "      <th>Fee</th>\n",
       "    </tr>\n",
       "  </thead>\n",
       "  <tbody>\n",
       "    <tr>\n",
       "      <th>0</th>\n",
       "      <td>Ross Barkley</td>\n",
       "      <td>29</td>\n",
       "      <td>England</td>\n",
       "      <td>OGC Nice</td>\n",
       "      <td>Luton Town</td>\n",
       "      <td>Aug 9, 2023</td>\n",
       "      <td>0.00</td>\n",
       "    </tr>\n",
       "    <tr>\n",
       "      <th>1</th>\n",
       "      <td>Sander Berge</td>\n",
       "      <td>25</td>\n",
       "      <td>Norway</td>\n",
       "      <td>Sheffield United</td>\n",
       "      <td>Burnley FC</td>\n",
       "      <td>Aug 9, 2023</td>\n",
       "      <td>13.95</td>\n",
       "    </tr>\n",
       "    <tr>\n",
       "      <th>2</th>\n",
       "      <td>Álex Gallar</td>\n",
       "      <td>31</td>\n",
       "      <td>Spain</td>\n",
       "      <td>Málaga CF</td>\n",
       "      <td>UD Ibiza</td>\n",
       "      <td>Aug 9, 2023</td>\n",
       "      <td>0.00</td>\n",
       "    </tr>\n",
       "    <tr>\n",
       "      <th>3</th>\n",
       "      <td>Aimen Mahious</td>\n",
       "      <td>25</td>\n",
       "      <td>Algeria</td>\n",
       "      <td>USM Alger</td>\n",
       "      <td>Yverdon Sport FC</td>\n",
       "      <td>Aug 9, 2023</td>\n",
       "      <td>0.00</td>\n",
       "    </tr>\n",
       "    <tr>\n",
       "      <th>4</th>\n",
       "      <td>Sergio Arribas</td>\n",
       "      <td>21</td>\n",
       "      <td>Spain</td>\n",
       "      <td>Real Madrid Castilla</td>\n",
       "      <td>UD Almería</td>\n",
       "      <td>Aug 9, 2023</td>\n",
       "      <td>6.00</td>\n",
       "    </tr>\n",
       "  </tbody>\n",
       "</table>\n",
       "</div>"
      ],
      "text/plain": [
       "           Player  Age Nationality             Left Team       Joined Team  \\\n",
       "0    Ross Barkley   29     England              OGC Nice        Luton Town   \n",
       "1    Sander Berge   25      Norway      Sheffield United        Burnley FC   \n",
       "2     Álex Gallar   31       Spain             Málaga CF          UD Ibiza   \n",
       "3   Aimen Mahious   25     Algeria             USM Alger  Yverdon Sport FC   \n",
       "4  Sergio Arribas   21       Spain  Real Madrid Castilla        UD Almería   \n",
       "\n",
       "  Transfer Date    Fee  \n",
       "0   Aug 9, 2023   0.00  \n",
       "1   Aug 9, 2023  13.95  \n",
       "2   Aug 9, 2023   0.00  \n",
       "3   Aug 9, 2023   0.00  \n",
       "4   Aug 9, 2023   6.00  "
      ]
     },
     "execution_count": 134,
     "metadata": {},
     "output_type": "execute_result"
    }
   ],
   "source": [
    "data.head()"
   ]
  },
  {
   "cell_type": "code",
   "execution_count": 137,
   "id": "fc59f88f",
   "metadata": {},
   "outputs": [
    {
     "data": {
      "text/plain": [
       "<pymongo.results.InsertManyResult at 0x2551a0c5fc0>"
      ]
     },
     "execution_count": 137,
     "metadata": {},
     "output_type": "execute_result"
    }
   ],
   "source": [
    "# Remplacez 'localhost' par l'adresse IP ou le nom de votre serveur MongoDB\n",
    "client = MongoClient('localhost', 27017)\n",
    "\n",
    "# Remplacez 'transfers_db' par le nom de la base de données que vous souhaitez utiliser\n",
    "db = client['transfers_db']\n",
    "data_list = data.to_dict('records')\n",
    "# Remplacez 'transfers_collection' par le nom de la collection que vous souhaitez utiliser\n",
    "collection = db['players']\n",
    "\n",
    "# Insérez les données dans la collection\n",
    "collection.insert_many(data_list)\n"
   ]
  },
  {
   "cell_type": "code",
   "execution_count": 138,
   "id": "961f2bc8",
   "metadata": {},
   "outputs": [
    {
     "name": "stdout",
     "output_type": "stream",
     "text": [
      "<class 'pandas.core.frame.DataFrame'>\n",
      "RangeIndex: 151 entries, 0 to 150\n",
      "Data columns (total 7 columns):\n",
      " #   Column         Non-Null Count  Dtype  \n",
      "---  ------         --------------  -----  \n",
      " 0   Player         151 non-null    object \n",
      " 1   Age            151 non-null    int64  \n",
      " 2   Nationality    151 non-null    object \n",
      " 3   Left Team      151 non-null    object \n",
      " 4   Joined Team    151 non-null    object \n",
      " 5   Transfer Date  151 non-null    object \n",
      " 6   Fee            151 non-null    float64\n",
      "dtypes: float64(1), int64(1), object(5)\n",
      "memory usage: 8.4+ KB\n"
     ]
    }
   ],
   "source": [
    "data.info()"
   ]
  },
  {
   "cell_type": "code",
   "execution_count": null,
   "id": "e48b2f4e",
   "metadata": {},
   "outputs": [],
   "source": []
  }
 ],
 "metadata": {
  "kernelspec": {
   "display_name": "Python 3 (ipykernel)",
   "language": "python",
   "name": "python3"
  },
  "language_info": {
   "codemirror_mode": {
    "name": "ipython",
    "version": 3
   },
   "file_extension": ".py",
   "mimetype": "text/x-python",
   "name": "python",
   "nbconvert_exporter": "python",
   "pygments_lexer": "ipython3",
   "version": "3.10.9"
  }
 },
 "nbformat": 4,
 "nbformat_minor": 5
}
